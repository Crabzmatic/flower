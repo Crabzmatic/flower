{
 "cells": [
  {
   "cell_type": "code",
   "execution_count": 1,
   "id": "c8f41583",
   "metadata": {},
   "outputs": [],
   "source": [
    "from typing import List, Tuple\n",
    "\n",
    "import torch\n",
    "import torch.nn as nn\n",
    "import torch.nn.functional as F\n",
    "from torch.nn.parameter import Parameter\n",
    "from torch.utils.data import DataLoader\n",
    "\n",
    "import copy\n",
    "\n",
    "from functools import reduce"
   ]
  },
  {
   "cell_type": "code",
   "execution_count": 2,
   "id": "eb125d85",
   "metadata": {},
   "outputs": [],
   "source": [
    "class Net(nn.Module):\n",
    "    \"\"\"Convolutional Neural Network architecture.\n",
    "\n",
    "    As described in McMahan 2017 paper :\n",
    "\n",
    "    [Communication-Efficient Learning of Deep Networks from\n",
    "    Decentralized Data] (https://arxiv.org/pdf/1602.05629.pdf)\n",
    "    \"\"\"\n",
    "\n",
    "    def __init__(self, num_classes: int = 10) -> None:\n",
    "        super().__init__()\n",
    "        self.conv1 = nn.Conv2d(1, 32, 5, padding=1)\n",
    "        self.conv2 = nn.Conv2d(32, 64, 5, padding=1)\n",
    "        self.pool = nn.MaxPool2d(kernel_size=(2, 2), padding=1)\n",
    "        self.fc1 = nn.Linear(64 * 7 * 7, 512)\n",
    "        self.fc2 = nn.Linear(512, num_classes)\n",
    "\n",
    "    def forward(self, input_tensor: torch.Tensor) -> torch.Tensor:\n",
    "        \"\"\"Forward pass of the CNN.\n",
    "\n",
    "        Parameters\n",
    "        ----------\n",
    "        x : torch.Tensor\n",
    "            Input Tensor that will pass through the network\n",
    "\n",
    "        Returns\n",
    "        -------\n",
    "        torch.Tensor\n",
    "            The resulting Tensor after it has passed through the network\n",
    "        \"\"\"\n",
    "        output_tensor = F.relu(self.conv1(input_tensor))\n",
    "        output_tensor = self.pool(output_tensor)\n",
    "        output_tensor = F.relu(self.conv2(output_tensor))\n",
    "        output_tensor = self.pool(output_tensor)\n",
    "        output_tensor = torch.flatten(output_tensor, 1)\n",
    "        output_tensor = F.relu(self.fc1(output_tensor))\n",
    "        output_tensor = self.fc2(output_tensor)\n",
    "        return output_tensor"
   ]
  },
  {
   "cell_type": "code",
   "execution_count": 117,
   "id": "dc302dea",
   "metadata": {},
   "outputs": [],
   "source": [
    "def mask_generator(dim: int, cohort_size: int, sparsity: int, rand_shuffle_flag: bool):\n",
    "    mask_matrix = torch.zeros(dim, cohort_size)\n",
    "    if dim > cohort_size/sparsity:\n",
    "        for row_index in range(1, dim+1):\n",
    "            column_numbers = range((sparsity*(row_index-1)), ((sparsity*row_index)-1)+1)\n",
    "            column_indexes = []\n",
    "            for elem in list(column_numbers):\n",
    "                column_indexes.append(elem%cohort_size)\n",
    "            mask_matrix[row_index-1][column_indexes] = 1\n",
    "    else:\n",
    "        for column_index in range(1,dim*sparsity+1):\n",
    "            row_index = (column_index - 1)%dim + 1\n",
    "            mask_matrix[row_index - 1][column_index - 1] = 1\n",
    "    \n",
    "    if rand_shuffle_flag:\n",
    "        mask_matrix=mask_matrix[:,torch.randperm(mask_matrix.size()[1])]\n",
    "    \n",
    "    return mask_matrix\n",
    "        \n",
    "        "
   ]
  },
  {
   "cell_type": "code",
   "execution_count": 119,
   "id": "ee67ab4c",
   "metadata": {},
   "outputs": [
    {
     "data": {
      "text/plain": [
       "tensor([[1., 0., 0., 0., 0., 1.],\n",
       "        [0., 1., 0., 1., 0., 0.],\n",
       "        [0., 0., 1., 0., 1., 0.]])"
      ]
     },
     "execution_count": 119,
     "metadata": {},
     "output_type": "execute_result"
    }
   ],
   "source": [
    "mask_generator(3,6,2, True)"
   ]
  },
  {
   "cell_type": "code",
   "execution_count": 116,
   "id": "7134bc1c",
   "metadata": {},
   "outputs": [
    {
     "data": {
      "text/plain": [
       "bool"
      ]
     },
     "execution_count": 116,
     "metadata": {},
     "output_type": "execute_result"
    }
   ],
   "source": [
    "type(True)"
   ]
  },
  {
   "cell_type": "code",
   "execution_count": 112,
   "id": "b370fa0e",
   "metadata": {},
   "outputs": [
    {
     "data": {
      "text/plain": [
       "[]"
      ]
     },
     "execution_count": 112,
     "metadata": {},
     "output_type": "execute_result"
    }
   ],
   "source": [
    "list(range(6,1))"
   ]
  },
  {
   "cell_type": "code",
   "execution_count": 28,
   "id": "16dbd554",
   "metadata": {},
   "outputs": [],
   "source": [
    "mask_matrix = torch.zeros(20, 10)\n",
    "mask_matrix[0] = torch.tensor([0,1,2,3,4,5,6,7,8,9])"
   ]
  },
  {
   "cell_type": "code",
   "execution_count": 33,
   "id": "8b4e21b2",
   "metadata": {},
   "outputs": [],
   "source": [
    "mask_matrix[0][[3,4,5]] = 1"
   ]
  },
  {
   "cell_type": "code",
   "execution_count": 34,
   "id": "7853c242",
   "metadata": {},
   "outputs": [
    {
     "name": "stdout",
     "output_type": "stream",
     "text": [
      "[1, 2, 3, 4]\n"
     ]
    }
   ],
   "source": [
    "print(list(range(1,5)))"
   ]
  },
  {
   "cell_type": "code",
   "execution_count": 35,
   "id": "edfb7402",
   "metadata": {},
   "outputs": [
    {
     "data": {
      "text/plain": [
       "tensor([1., 1., 1.])"
      ]
     },
     "execution_count": 35,
     "metadata": {},
     "output_type": "execute_result"
    }
   ],
   "source": [
    "mask_matrix[0][[3,4,5]]"
   ]
  },
  {
   "cell_type": "code",
   "execution_count": null,
   "id": "4d94217d",
   "metadata": {},
   "outputs": [],
   "source": []
  }
 ],
 "metadata": {
  "kernelspec": {
   "display_name": "Python 3 (ipykernel)",
   "language": "python",
   "name": "python3"
  },
  "language_info": {
   "codemirror_mode": {
    "name": "ipython",
    "version": 3
   },
   "file_extension": ".py",
   "mimetype": "text/x-python",
   "name": "python",
   "nbconvert_exporter": "python",
   "pygments_lexer": "ipython3",
   "version": "3.10.9"
  }
 },
 "nbformat": 4,
 "nbformat_minor": 5
}
